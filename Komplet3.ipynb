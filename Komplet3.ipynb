{
 "cells": [
  {
   "cell_type": "code",
   "execution_count": 2,
   "metadata": {},
   "outputs": [
    {
     "name": "stderr",
     "output_type": "stream",
     "text": [
      "C:\\Users\\Veljko\\Anaconda3\\lib\\site-packages\\h5py\\__init__.py:36: FutureWarning: Conversion of the second argument of issubdtype from `float` to `np.floating` is deprecated. In future, it will be treated as `np.float64 == np.dtype(float).type`.\n",
      "  from ._conv import register_converters as _register_converters\n",
      "Using TensorFlow backend.\n"
     ]
    }
   ],
   "source": [
    "from __future__ import print_function\n",
    "#import potrebnih biblioteka\n",
    "%matplotlib inline\n",
    "import cv2\n",
    "import numpy as np \n",
    "import matplotlib.pyplot as plt \n",
    "import collections\n",
    "\n",
    "# keras\n",
    "from keras.models import Sequential\n",
    "from keras.layers.core import Dense,Activation\n",
    "from keras.optimizers import SGD\n",
    "\n",
    "\n",
    "import matplotlib.pylab as pylab\n",
    "pylab.rcParams['figure.figsize'] = 16, 12 # za prikaz većih slika i plotova, zakomentarisati ako nije potrebno"
   ]
  },
  {
   "cell_type": "code",
   "execution_count": 3,
   "metadata": {},
   "outputs": [],
   "source": [
    "def load_image(path):\n",
    "    return cv2.cvtColor(cv2.imread(path), cv2.COLOR_BGR2RGB)\n",
    "def image_gray(image):\n",
    "    return cv2.cvtColor(image, cv2.COLOR_RGB2GRAY)\n",
    "def image_bin(image_gs):\n",
    "    height, width = image_gs.shape[0:2]\n",
    "    image_binary = np.ndarray((height, width), dtype=np.uint8)\n",
    "    ret,image_bin = cv2.threshold(image_gs, 127, 255, cv2.THRESH_BINARY)\n",
    "    return image_bin\n",
    "def invert(image):\n",
    "    return 255-image\n",
    "def display_image(image, color= False):\n",
    "    if color:\n",
    "        plt.imshow(image)\n",
    "    else:\n",
    "        plt.imshow(image, 'gray')\n",
    "def dilate(image):\n",
    "    kernel = np.ones((3,3)) # strukturni element 3x3 blok\n",
    "    return cv2.dilate(image, kernel, iterations=1)\n",
    "def erode(image):\n",
    "    kernel = np.ones((3,3)) # strukturni element 3x3 blok\n",
    "    return cv2.erode(image, kernel, iterations=1)"
   ]
  },
  {
   "cell_type": "code",
   "execution_count": 4,
   "metadata": {},
   "outputs": [],
   "source": [
    "def resize_region(region):\n",
    "    '''Transformisati selektovani region na sliku dimenzija 28x28'''\n",
    "    return cv2.resize(region,(28,28), interpolation = cv2.INTER_NEAREST)"
   ]
  },
  {
   "cell_type": "code",
   "execution_count": 5,
   "metadata": {},
   "outputs": [],
   "source": [
    "def select_roi(image_orig, image_bin):\n",
    "    '''Oznaciti regione od interesa na originalnoj slici. (ROI = regions of interest)\n",
    "        Za svaki region napraviti posebnu sliku dimenzija 28 x 28. \n",
    "        Za označavanje regiona koristiti metodu cv2.boundingRect(contour).\n",
    "        Kao povratnu vrednost vratiti originalnu sliku na kojoj su obeleženi regioni\n",
    "        i niz slika koje predstavljaju regione sortirane po rastućoj vrednosti x ose\n",
    "    '''\n",
    "    img, contours, hierarchy = cv2.findContours(image_bin.copy(), cv2.RETR_LIST, cv2.CHAIN_APPROX_SIMPLE)\n",
    "    sorted_regions = [] # lista sortiranih regiona po x osi (sa leva na desno)\n",
    "    regions_array = []\n",
    "    for contour in contours: \n",
    "        x,y,w,h = cv2.boundingRect(contour) #koordinate i velicina granicnog pravougaonika\n",
    "        area = cv2.contourArea(contour)\n",
    "        if area > 100 and h < 100 and h > 15 and w > 20:\n",
    "            # kopirati [y:y+h+1, x:x+w+1] sa binarne slike i smestiti u novu sliku\n",
    "            # označiti region pravougaonikom na originalnoj slici (image_orig) sa rectangle funkcijom\n",
    "            region = image_bin[y:y+h+1,x:x+w+1]\n",
    "            regions_array.append([resize_region(region), (x,y,w,h)])       \n",
    "            cv2.rectangle(image_orig,(x,y),(x+w,y+h),(0,255,0),2)\n",
    "    regions_array = sorted(regions_array, key=lambda item: item[1][0])\n",
    "    sorted_regions = sorted_regions = [region[0] for region in regions_array]\n",
    "    \n",
    "    # sortirati sve regione po x osi (sa leva na desno) i smestiti u promenljivu sorted_regions\n",
    "    return image_orig, sorted_regions"
   ]
  },
  {
   "cell_type": "code",
   "execution_count": 6,
   "metadata": {},
   "outputs": [],
   "source": [
    "def scale_to_range(image): # skalira elemente slike na opseg od 0 do 1\n",
    "    ''' Elementi matrice image su vrednosti 0 ili 255. \n",
    "        Potrebno je skalirati sve elemente matrica na opseg od 0 do 1\n",
    "    '''\n",
    "    return image/255"
   ]
  },
  {
   "cell_type": "code",
   "execution_count": 7,
   "metadata": {},
   "outputs": [],
   "source": [
    "def matrix_to_vector(image):\n",
    "    '''Sliku koja je zapravo matrica 28x28 transformisati u vektor sa 784 elementa'''\n",
    "    return image.flatten()"
   ]
  },
  {
   "cell_type": "code",
   "execution_count": 8,
   "metadata": {},
   "outputs": [],
   "source": [
    "def prepare_for_ann(regions):\n",
    "    '''Regioni su matrice dimenzija 28x28 čiji su elementi vrednosti 0 ili 255.\n",
    "        Potrebno je skalirati elemente regiona na [0,1] i transformisati ga u vektor od 784 elementa '''\n",
    "    ready_for_ann = []\n",
    "    for region in regions:\n",
    "        # skalirati elemente regiona \n",
    "        # region sa skaliranim elementima pretvoriti u vektor\n",
    "        # vektor dodati u listu spremnih regiona\n",
    "        scale = scale_to_range(region)\n",
    "        ready_for_ann.append(matrix_to_vector(scale))\n",
    "        \n",
    "    return ready_for_ann"
   ]
  },
  {
   "cell_type": "code",
   "execution_count": 9,
   "metadata": {},
   "outputs": [],
   "source": [
    "def convert_output(alphabet):\n",
    "    '''Konvertovati alfabet u niz pogodan za obučavanje NM,\n",
    "        odnosno niz čiji su svi elementi 0 osim elementa čiji je\n",
    "        indeks jednak indeksu elementa iz alfabeta za koji formiramo niz.\n",
    "        Primer prvi element iz alfabeta [1,0,0,0,0,0,0,0,0,0],\n",
    "        za drugi [0,1,0,0,0,0,0,0,0,0] itd..\n",
    "    '''\n",
    "    nn_outputs = []\n",
    "    for index in range(len(alphabet)):\n",
    "        output = np.zeros(len(alphabet))\n",
    "        output[index] = 1\n",
    "        nn_outputs.append(output)\n",
    "    return np.array(nn_outputs)"
   ]
  },
  {
   "cell_type": "code",
   "execution_count": 10,
   "metadata": {},
   "outputs": [],
   "source": [
    "def create_ann():\n",
    "    '''Implementacija veštačke neuronske mreže sa 784 neurona na uloznom sloju,\n",
    "        128 neurona u skrivenom sloju i 10 neurona na izlazu. Aktivaciona funkcija je sigmoid.\n",
    "    '''\n",
    "    ann = Sequential()\n",
    "    ann.add(Dense(128, input_dim=784, activation='sigmoid'))\n",
    "    ann.add(Dense(10, activation='sigmoid'))\n",
    "    return ann\n",
    "    \n",
    "def train_ann(ann, X_train, y_train):\n",
    "    '''Obucavanje vestacke neuronske mreze'''\n",
    "    X_train = np.array(X_train, np.float32) # dati ulazi\n",
    "    y_train = np.array(y_train, np.float32) # zeljeni izlazi za date ulaze\n",
    "   \n",
    "    # definisanje parametra algoritma za obucavanje\n",
    "    sgd = SGD(lr=0.01, momentum=0.9)\n",
    "    ann.compile(loss='mean_squared_error', optimizer=sgd)\n",
    "\n",
    "    # obucavanje neuronske mreze\n",
    "    ann.fit(X_train, y_train, epochs=2000, batch_size=1, verbose = 0, shuffle=False) \n",
    "      \n",
    "    return ann"
   ]
  },
  {
   "cell_type": "code",
   "execution_count": 11,
   "metadata": {},
   "outputs": [],
   "source": [
    "def winner(output): # output je vektor sa izlaza neuronske mreze\n",
    "    '''pronaći i vratiti indeks neurona koji je najviše pobuđen'''\n",
    "    return max(enumerate(output), key=lambda x: x[1])[0]"
   ]
  },
  {
   "cell_type": "code",
   "execution_count": 12,
   "metadata": {},
   "outputs": [],
   "source": [
    "def display_result(outputs, alphabet):\n",
    "    '''za svaki rezultat pronaći indeks pobedničkog\n",
    "        regiona koji ujedno predstavlja i indeks u alfabetu.\n",
    "        Dodati karakter iz alfabet u result'''\n",
    "    result = []\n",
    "    for output in outputs:\n",
    "        result.append(alphabet[winner(output)])\n",
    "    return result"
   ]
  },
  {
   "cell_type": "code",
   "execution_count": 13,
   "metadata": {
    "scrolled": false
   },
   "outputs": [
    {
     "name": "stdout",
     "output_type": "stream",
     "text": [
      "BROJ REGIONA: 493\n"
     ]
    },
    {
     "data": {
      "image/png": "[encoded data removed]",
      "text/plain": [
       "<Figure size 432x288 with 1 Axes>"
      ]
     },
     "metadata": {},
     "output_type": "display_data"
    }
   ],
   "source": [
    "image_color = load_image('slika.jpg')\n",
    "image_color = cv2.bitwise_not(image_color)\n",
    "img_gray = image_gray(image_color)\n",
    "ret, img_bin = cv2.threshold(img_gray, 140, 255, cv2.THRESH_BINARY)\n",
    "ret1, img_bin1 = cv2.threshold(img_gray, 139, 255, cv2.THRESH_BINARY)\n",
    "#ret, img_bin = cv2.threshold(img_gray, 0, 255, cv2.THRESH_OTSU)\n",
    "#img_bin = image_bin(img_gray)\n",
    "img = invert(img_bin)\n",
    "img_bin = erode(dilate(img))\n",
    "selected_regions, zubi = select_roi(image_color.copy(), img)\n",
    "print(\"BROJ REGIONA: \" + str(len(selected_regions)))\n",
    "display_image(img_bin - img_bin1)"
   ]
  },
  {
   "cell_type": "code",
   "execution_count": 14,
   "metadata": {},
   "outputs": [
    {
     "data": {
      "text/plain": [
       "<matplotlib.image.AxesImage at 0x183ec400f60>"
      ]
     },
     "execution_count": 14,
     "metadata": {},
     "output_type": "execute_result"
    },
    {
     "data": {
      "image/png": "[encoded data removed]",
      "text/plain": [
       "<Figure size 432x288 with 1 Axes>"
      ]
     },
     "metadata": {},
     "output_type": "display_data"
    },
    {
     "data": {
      "image/png": "[encoded data removed]",
      "text/plain": [
       "<Figure size 432x288 with 1 Axes>"
      ]
     },
     "metadata": {},
     "output_type": "display_data"
    }
   ],
   "source": [
    "image_color = load_image('slika.jpg')\n",
    "image_color = cv2.bitwise_not(image_color)\n",
    "display_image(image_color)\n",
    "\n",
    "image_color = image_gray(image_color)\n",
    "\n",
    "height, width = image_color.shape[0:2]\n",
    "x = range(0, 256)\n",
    "y = np.zeros(256)\n",
    "    \n",
    "for i in range(0, height):\n",
    "    for j in range(0, width):\n",
    "        if(image_color[i,j] > 130):\n",
    "            image_color[i, j] += 20\n",
    "        else:\n",
    "            image_color[i, j] -= 20\n",
    "    \n",
    "display_image(image_color)\n",
    "\n",
    "img_bin = cv2.adaptiveThreshold(image_color, 255, cv2.ADAPTIVE_THRESH_MEAN_C, cv2.THRESH_BINARY, 7, 7)\n",
    "plt.figure() # ako je potrebno da se prikaze vise slika u jednoj celiji\n",
    "plt.imshow(img_bin, 'gray')"
   ]
  },
  {
   "cell_type": "code",
   "execution_count": 15,
   "metadata": {},
   "outputs": [],
   "source": [
    "zubi = [11,12,13,14,15,16,17,18,21,22,23,24,25,26,27,28,41,42,43,44,45,46,47,48,31,32,33,34,35,36,37,38]"
   ]
  },
  {
   "cell_type": "code",
   "execution_count": 20,
   "metadata": {
    "scrolled": true
   },
   "outputs": [
    {
     "ename": "AttributeError",
     "evalue": "'float' object has no attribute 'flatten'",
     "output_type": "error",
     "traceback": [
      "\u001b[1;31m---------------------------------------------------------------------------\u001b[0m",
      "\u001b[1;31mAttributeError\u001b[0m                            Traceback (most recent call last)",
      "\u001b[1;32m<ipython-input-20-d2f453e1385d>\u001b[0m in \u001b[0;36m<module>\u001b[1;34m()\u001b[0m\n\u001b[1;32m----> 1\u001b[1;33m \u001b[0minputs\u001b[0m \u001b[1;33m=\u001b[0m \u001b[0mprepare_for_ann\u001b[0m\u001b[1;33m(\u001b[0m\u001b[0mzubi\u001b[0m\u001b[1;33m)\u001b[0m\u001b[1;33m\u001b[0m\u001b[0m\n\u001b[0m\u001b[0;32m      2\u001b[0m \u001b[0moutputs\u001b[0m \u001b[1;33m=\u001b[0m \u001b[0mconvert_output\u001b[0m\u001b[1;33m(\u001b[0m\u001b[0mzubi\u001b[0m\u001b[1;33m)\u001b[0m\u001b[1;33m\u001b[0m\u001b[0m\n\u001b[0;32m      3\u001b[0m \u001b[0mann\u001b[0m \u001b[1;33m=\u001b[0m \u001b[0mcreate_ann\u001b[0m\u001b[1;33m(\u001b[0m\u001b[1;33m)\u001b[0m\u001b[1;33m\u001b[0m\u001b[0m\n\u001b[0;32m      4\u001b[0m \u001b[0mann\u001b[0m \u001b[1;33m=\u001b[0m \u001b[0mtrain_ann\u001b[0m\u001b[1;33m(\u001b[0m\u001b[0mann\u001b[0m\u001b[1;33m,\u001b[0m \u001b[0minputs\u001b[0m\u001b[1;33m,\u001b[0m \u001b[0moutputs\u001b[0m\u001b[1;33m)\u001b[0m\u001b[1;33m\u001b[0m\u001b[0m\n",
      "\u001b[1;32m<ipython-input-8-89a07a774f16>\u001b[0m in \u001b[0;36mprepare_for_ann\u001b[1;34m(regions)\u001b[0m\n\u001b[0;32m      8\u001b[0m         \u001b[1;31m# vektor dodati u listu spremnih regiona\u001b[0m\u001b[1;33m\u001b[0m\u001b[1;33m\u001b[0m\u001b[0m\n\u001b[0;32m      9\u001b[0m         \u001b[0mscale\u001b[0m \u001b[1;33m=\u001b[0m \u001b[0mscale_to_range\u001b[0m\u001b[1;33m(\u001b[0m\u001b[0mregion\u001b[0m\u001b[1;33m)\u001b[0m\u001b[1;33m\u001b[0m\u001b[0m\n\u001b[1;32m---> 10\u001b[1;33m         \u001b[0mready_for_ann\u001b[0m\u001b[1;33m.\u001b[0m\u001b[0mappend\u001b[0m\u001b[1;33m(\u001b[0m\u001b[0mmatrix_to_vector\u001b[0m\u001b[1;33m(\u001b[0m\u001b[0mscale\u001b[0m\u001b[1;33m)\u001b[0m\u001b[1;33m)\u001b[0m\u001b[1;33m\u001b[0m\u001b[0m\n\u001b[0m\u001b[0;32m     11\u001b[0m \u001b[1;33m\u001b[0m\u001b[0m\n\u001b[0;32m     12\u001b[0m     \u001b[1;32mreturn\u001b[0m \u001b[0mready_for_ann\u001b[0m\u001b[1;33m\u001b[0m\u001b[0m\n",
      "\u001b[1;32m<ipython-input-7-186e5ab2a4b3>\u001b[0m in \u001b[0;36mmatrix_to_vector\u001b[1;34m(image)\u001b[0m\n\u001b[0;32m      1\u001b[0m \u001b[1;32mdef\u001b[0m \u001b[0mmatrix_to_vector\u001b[0m\u001b[1;33m(\u001b[0m\u001b[0mimage\u001b[0m\u001b[1;33m)\u001b[0m\u001b[1;33m:\u001b[0m\u001b[1;33m\u001b[0m\u001b[0m\n\u001b[0;32m      2\u001b[0m     \u001b[1;34m'''Sliku koja je zapravo matrica 28x28 transformisati u vektor sa 784 elementa'''\u001b[0m\u001b[1;33m\u001b[0m\u001b[0m\n\u001b[1;32m----> 3\u001b[1;33m     \u001b[1;32mreturn\u001b[0m \u001b[0mimage\u001b[0m\u001b[1;33m.\u001b[0m\u001b[0mflatten\u001b[0m\u001b[1;33m(\u001b[0m\u001b[1;33m)\u001b[0m\u001b[1;33m\u001b[0m\u001b[0m\n\u001b[0m",
      "\u001b[1;31mAttributeError\u001b[0m: 'float' object has no attribute 'flatten'"
     ]
    }
   ],
   "source": [
    "inputs = prepare_for_ann(zubi)\n",
    "outputs = convert_output(zubi)\n",
    "ann = create_ann()\n",
    "ann = train_ann(ann, inputs, outputs)"
   ]
  },
  {
   "cell_type": "code",
   "execution_count": 21,
   "metadata": {},
   "outputs": [
    {
     "ename": "NameError",
     "evalue": "name 'ann' is not defined",
     "output_type": "error",
     "traceback": [
      "\u001b[1;31m---------------------------------------------------------------------------\u001b[0m",
      "\u001b[1;31mNameError\u001b[0m                                 Traceback (most recent call last)",
      "\u001b[1;32m<ipython-input-21-5da6d8b05ec5>\u001b[0m in \u001b[0;36m<module>\u001b[1;34m()\u001b[0m\n\u001b[1;32m----> 1\u001b[1;33m \u001b[0mresult\u001b[0m \u001b[1;33m=\u001b[0m \u001b[0mann\u001b[0m\u001b[1;33m.\u001b[0m\u001b[0mpredict\u001b[0m\u001b[1;33m(\u001b[0m\u001b[0mnp\u001b[0m\u001b[1;33m.\u001b[0m\u001b[0marray\u001b[0m\u001b[1;33m(\u001b[0m\u001b[0minputs\u001b[0m\u001b[1;33m[\u001b[0m\u001b[1;36m2\u001b[0m\u001b[1;33m:\u001b[0m\u001b[1;36m4\u001b[0m\u001b[1;33m]\u001b[0m\u001b[1;33m,\u001b[0m \u001b[0mnp\u001b[0m\u001b[1;33m.\u001b[0m\u001b[0mfloat32\u001b[0m\u001b[1;33m)\u001b[0m\u001b[1;33m)\u001b[0m\u001b[1;33m\u001b[0m\u001b[0m\n\u001b[0m\u001b[0;32m      2\u001b[0m \u001b[0mprint\u001b[0m\u001b[1;33m(\u001b[0m\u001b[0mresult\u001b[0m\u001b[1;33m)\u001b[0m\u001b[1;33m\u001b[0m\u001b[0m\n\u001b[0;32m      3\u001b[0m \u001b[1;31m#print(display_result(result, zubi))\u001b[0m\u001b[1;33m\u001b[0m\u001b[1;33m\u001b[0m\u001b[0m\n",
      "\u001b[1;31mNameError\u001b[0m: name 'ann' is not defined"
     ]
    }
   ],
   "source": [
    "result = ann.predict(np.array(inputs[2:4], np.float32))\n",
    "print(result)\n",
    "#print(display_result(result, zubi))"
   ]
  },
  {
   "cell_type": "code",
   "execution_count": 22,
   "metadata": {},
   "outputs": [
    {
     "ename": "NameError",
     "evalue": "name 'ann' is not defined",
     "output_type": "error",
     "traceback": [
      "\u001b[1;31m---------------------------------------------------------------------------\u001b[0m",
      "\u001b[1;31mNameError\u001b[0m                                 Traceback (most recent call last)",
      "\u001b[1;32m<ipython-input-22-086d1bc76e53>\u001b[0m in \u001b[0;36m<module>\u001b[1;34m()\u001b[0m\n\u001b[0;32m      5\u001b[0m \u001b[0mdisplay_image\u001b[0m\u001b[1;33m(\u001b[0m\u001b[0mselected_test\u001b[0m\u001b[1;33m)\u001b[0m\u001b[1;33m\u001b[0m\u001b[0m\n\u001b[0;32m      6\u001b[0m \u001b[0mtest_inputs\u001b[0m \u001b[1;33m=\u001b[0m \u001b[0mprepare_for_ann\u001b[0m\u001b[1;33m(\u001b[0m\u001b[0mtest_numbers\u001b[0m\u001b[1;33m)\u001b[0m\u001b[1;33m\u001b[0m\u001b[0m\n\u001b[1;32m----> 7\u001b[1;33m \u001b[0mresult\u001b[0m \u001b[1;33m=\u001b[0m \u001b[0mann\u001b[0m\u001b[1;33m.\u001b[0m\u001b[0mpredict\u001b[0m\u001b[1;33m(\u001b[0m\u001b[0mnp\u001b[0m\u001b[1;33m.\u001b[0m\u001b[0marray\u001b[0m\u001b[1;33m(\u001b[0m\u001b[0mtest_inputs\u001b[0m\u001b[1;33m,\u001b[0m \u001b[0mnp\u001b[0m\u001b[1;33m.\u001b[0m\u001b[0mfloat32\u001b[0m\u001b[1;33m)\u001b[0m\u001b[1;33m)\u001b[0m\u001b[1;33m\u001b[0m\u001b[0m\n\u001b[0m\u001b[0;32m      8\u001b[0m \u001b[1;31m#print(display_result(result, zubi))\u001b[0m\u001b[1;33m\u001b[0m\u001b[1;33m\u001b[0m\u001b[0m\n\u001b[0;32m      9\u001b[0m \u001b[0mcv2\u001b[0m\u001b[1;33m.\u001b[0m\u001b[0mimwrite\u001b[0m\u001b[1;33m(\u001b[0m\u001b[1;34m'ocr.jpg'\u001b[0m\u001b[1;33m,\u001b[0m\u001b[0mdist2\u001b[0m\u001b[1;33m)\u001b[0m\u001b[1;33m\u001b[0m\u001b[0m\n",
      "\u001b[1;31mNameError\u001b[0m: name 'ann' is not defined"
     ]
    },
    {
     "data": {
      "image/png": "[encoded data removed]",
      "text/plain": [
       "<Figure size 432x288 with 1 Axes>"
      ]
     },
     "metadata": {},
     "output_type": "display_data"
    }
   ],
   "source": [
    "test_color = load_image('slika.jpg')\n",
    "test = invert(image_bin(image_gray(test_color)))\n",
    "test_bin = erode(dilate(test))\n",
    "selected_test, test_numbers = select_roi(test_color.copy(),test_bin)\n",
    "display_image(selected_test)\n",
    "test_inputs = prepare_for_ann(test_numbers)\n",
    "result = ann.predict(np.array(test_inputs, np.float32))\n",
    "#print(display_result(result, zubi))\n",
    "cv2.imwrite('ocr.jpg',dist2)"
   ]
  }
 ],
 "metadata": {
  "anaconda-cloud": {},
  "kernelspec": {
   "display_name": "Python 3",
   "language": "python",
   "name": "python3"
  },
  "language_info": {
   "codemirror_mode": {
    "name": "ipython",
    "version": 3
   },
   "file_extension": ".py",
   "mimetype": "text/x-python",
   "name": "python",
   "nbconvert_exporter": "python",
   "pygments_lexer": "ipython3",
   "version": "3.6.5"
  }
 },
 "nbformat": 4,
 "nbformat_minor": 1
}
